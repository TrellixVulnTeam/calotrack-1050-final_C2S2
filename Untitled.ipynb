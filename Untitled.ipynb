{
 "cells": [
  {
   "cell_type": "markdown",
   "metadata": {},
   "source": [
    "Website Details"
   ]
  },
  {
   "cell_type": "raw",
   "metadata": {},
   "source": [
    "About\n",
    "Project Summary \n",
    "Names of all team members \n",
    "Executive Summary\n",
    "Datasets used\n",
    "Summary of performance with respect to the baseline model(s)\n",
    "Possible next steps\n",
    "References to related work\n",
    "\n",
    "Your site should also have an additional page or page(s) providing full project detail divided up into the following sections:\n",
    "\n",
    "Additional Project Details\n",
    "Development Process and Final Technology Stack\n",
    "Explain how you created the site, and the final technology stack used\n",
    "Data Acquisition, Caching, ETL Processing, Database Design\n",
    "Describe how the data is accessed, cached and ETL processing steps\n",
    "Describe the Database used (include a schema diagram if appropriate)\n",
    "Link to a static version of your ETL_EDA.ipynb notebook, or equivalent web page\n",
    "Link to a static version of your Enhancement.ipynb notebook, or equivalent web page\n"
   ]
  },
  {
   "cell_type": "code",
   "execution_count": null,
   "metadata": {},
   "outputs": [],
   "source": []
  }
 ],
 "metadata": {
  "kernelspec": {
   "display_name": "Python 3",
   "language": "python",
   "name": "python3"
  },
  "language_info": {
   "codemirror_mode": {
    "name": "ipython",
    "version": 3
   },
   "file_extension": ".py",
   "mimetype": "text/x-python",
   "name": "python",
   "nbconvert_exporter": "python",
   "pygments_lexer": "ipython3",
   "version": "3.7.3"
  }
 },
 "nbformat": 4,
 "nbformat_minor": 4
}
